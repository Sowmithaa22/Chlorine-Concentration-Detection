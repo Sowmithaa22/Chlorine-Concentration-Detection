{
 "cells": [
  {
   "cell_type": "code",
   "execution_count": 1,
   "id": "02960eec",
   "metadata": {},
   "outputs": [
    {
     "name": "stdout",
     "output_type": "stream",
     "text": [
      "Folder Label Mapping:\n",
      "{'Sample_0.1': 0.1, 'Sample_0.2': 0.2, 'Sample_0.5': 0.5, 'Sample_1.0': 1.0, 'Sample_1.5': 1.5, 'Sample_2.0': 2.0, 'Sample_2.5': 2.5, 'Sample_3.0': 3.0, 'Sample_4.0': 4.0, 'Sample_5.0': 5.0}\n"
     ]
    }
   ],
   "source": [
    "import os\n",
    "import tensorflow as tf\n",
    "from tensorflow.keras import layers, models\n",
    "from tensorflow.keras.preprocessing.image import ImageDataGenerator\n",
    "\n",
    "# Define the folder path containing your folders of images\n",
    "folder_path = \"R:\\SIEMENS_Intern\\chlorine\"\n",
    "\n",
    "# List all folders in the specified directory\n",
    "folders = [f for f in os.listdir(folder_path) if os.path.isdir(os.path.join(folder_path, f))]\n",
    "\n",
    "# Define the labels\n",
    "labels = [0.1, 0.2, 0.5, 1.0, 1.5, 2.0, 2.5, 3.0, 4.0, 5.0]\n",
    "\n",
    "# Create a dictionary to store the mapping of folder names to labels\n",
    "label_mapping = {folder: label for folder, label in zip(folders, labels)}\n",
    "\n",
    "# Print the mapping to verify\n",
    "print(\"Folder Label Mapping:\")\n",
    "print(label_mapping)\n",
    "\n"
   ]
  },
  {
   "cell_type": "code",
   "execution_count": 2,
   "id": "4bd64117",
   "metadata": {},
   "outputs": [
    {
     "name": "stdout",
     "output_type": "stream",
     "text": [
      "Found 1591 images belonging to 10 classes.\n",
      "Found 392 images belonging to 10 classes.\n"
     ]
    }
   ],
   "source": [
    "# Define image dimensions and batch size\n",
    "img_height, img_width = 224, 224\n",
    "batch_size = 32\n",
    "\n",
    "# Define train and validation data generators\n",
    "train_datagen = ImageDataGenerator(rescale=1./255, validation_split=0.2)  # Splitting data into train and validation\n",
    "train_generator = train_datagen.flow_from_directory(\n",
    "    folder_path,\n",
    "    target_size=(img_height, img_width),\n",
    "    batch_size=batch_size,\n",
    "    class_mode='categorical',\n",
    "    subset='training')  # Set as training data\n",
    "\n",
    "validation_generator = train_datagen.flow_from_directory(\n",
    "    folder_path,\n",
    "    target_size=(img_height, img_width),\n",
    "    batch_size=batch_size,\n",
    "    class_mode='categorical',\n",
    "    subset='validation')  # Set as validation data"
   ]
  },
  {
   "cell_type": "code",
   "execution_count": 3,
   "id": "859f5e96",
   "metadata": {},
   "outputs": [
    {
     "name": "stdout",
     "output_type": "stream",
     "text": [
      "Epoch 1/10\n",
      "49/49 [==============================] - 170s 3s/step - loss: 2.5681 - accuracy: 0.1206 - val_loss: 2.2375 - val_accuracy: 0.1146\n",
      "Epoch 2/10\n",
      "49/49 [==============================] - 173s 4s/step - loss: 1.7481 - accuracy: 0.3079 - val_loss: 1.2796 - val_accuracy: 0.4531\n",
      "Epoch 3/10\n",
      "49/49 [==============================] - 227s 5s/step - loss: 1.0454 - accuracy: 0.5850 - val_loss: 1.0865 - val_accuracy: 0.5156\n",
      "Epoch 4/10\n",
      "49/49 [==============================] - 294s 6s/step - loss: 0.7619 - accuracy: 0.7011 - val_loss: 0.7525 - val_accuracy: 0.7448\n",
      "Epoch 5/10\n",
      "49/49 [==============================] - 293s 6s/step - loss: 0.5406 - accuracy: 0.7986 - val_loss: 0.9310 - val_accuracy: 0.5964\n",
      "Epoch 6/10\n",
      "49/49 [==============================] - 300s 6s/step - loss: 0.3808 - accuracy: 0.8589 - val_loss: 0.8157 - val_accuracy: 0.7214\n",
      "Epoch 7/10\n",
      "49/49 [==============================] - 291s 6s/step - loss: 0.3029 - accuracy: 0.8954 - val_loss: 0.8408 - val_accuracy: 0.7318\n",
      "Epoch 8/10\n",
      "49/49 [==============================] - 286s 6s/step - loss: 0.1902 - accuracy: 0.9371 - val_loss: 0.9730 - val_accuracy: 0.6953\n",
      "Epoch 9/10\n",
      "49/49 [==============================] - 283s 6s/step - loss: 0.2039 - accuracy: 0.9326 - val_loss: 0.9895 - val_accuracy: 0.7214\n",
      "Epoch 10/10\n",
      "49/49 [==============================] - 812s 17s/step - loss: 0.1238 - accuracy: 0.9615 - val_loss: 0.9800 - val_accuracy: 0.7422\n"
     ]
    }
   ],
   "source": [
    "\n",
    "# Define and compile the CNN model\n",
    "model = models.Sequential([\n",
    "    layers.Conv2D(32, (3, 3), activation='relu', input_shape=(img_height, img_width, 3)),\n",
    "    layers.MaxPooling2D((2, 2)),\n",
    "    layers.Conv2D(64, (3, 3), activation='relu'),\n",
    "    layers.MaxPooling2D((2, 2)),\n",
    "    layers.Conv2D(128, (3, 3), activation='relu'),\n",
    "    layers.MaxPooling2D((2, 2)),\n",
    "    layers.Flatten(),\n",
    "    layers.Dense(128, activation='relu'),\n",
    "    layers.Dense(len(labels), activation='softmax')  # Number of units based on the number of categories\n",
    "])\n",
    "\n",
    "model.compile(optimizer='adam',\n",
    "              loss='categorical_crossentropy',\n",
    "              metrics=['accuracy'])\n",
    "\n",
    "# Train the model\n",
    "model.fit(\n",
    "    train_generator,\n",
    "    steps_per_epoch=train_generator.samples // batch_size,\n",
    "    epochs=10,\n",
    "    validation_data=validation_generator,\n",
    "    validation_steps=validation_generator.samples // batch_size\n",
    ")\n",
    "\n",
    "# Save the trained model\n",
    "model.save(\"chlorine_concentration_model.h5\")\n"
   ]
  },
  {
   "cell_type": "code",
   "execution_count": 5,
   "id": "637309cc",
   "metadata": {},
   "outputs": [
    {
     "name": "stdout",
     "output_type": "stream",
     "text": [
      "1/1 [==============================] - 1s 700ms/step\n",
      "Predicted concentration: 2.5\n"
     ]
    }
   ],
   "source": [
    "# Classify new images\n",
    "new_image_path = r'R:\\SIEMENS_Intern\\chlorine\\Sample_2.5\\aug_0_200.jpeg'\n",
    "img = tf.keras.preprocessing.image.load_img(new_image_path, target_size=(img_height, img_width))\n",
    "img_array = tf.keras.preprocessing.image.img_to_array(img)\n",
    "img_array = tf.expand_dims(img_array, 0)  # Create a batch\n",
    "\n",
    "predictions = model.predict(img_array)\n",
    "predicted_class_index = tf.argmax(predictions, axis=1)\n",
    "predicted_class = labels[predicted_class_index[0]]\n",
    "print(\"Predicted concentration:\", predicted_class)\n"
   ]
  },
  {
   "cell_type": "code",
   "execution_count": null,
   "id": "1a954ad0",
   "metadata": {},
   "outputs": [],
   "source": []
  }
 ],
 "metadata": {
  "kernelspec": {
   "display_name": "Python 3 (ipykernel)",
   "language": "python",
   "name": "python3"
  },
  "language_info": {
   "codemirror_mode": {
    "name": "ipython",
    "version": 3
   },
   "file_extension": ".py",
   "mimetype": "text/x-python",
   "name": "python",
   "nbconvert_exporter": "python",
   "pygments_lexer": "ipython3",
   "version": "3.10.9"
  }
 },
 "nbformat": 4,
 "nbformat_minor": 5
}
