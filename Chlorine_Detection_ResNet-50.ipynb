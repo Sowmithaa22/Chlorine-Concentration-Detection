{
 "cells": [
  {
   "cell_type": "code",
   "execution_count": 1,
   "id": "21aa6a93",
   "metadata": {},
   "outputs": [
    {
     "name": "stdout",
     "output_type": "stream",
     "text": [
      "Folder Label Mapping:\n",
      "{'Sample_0.1': 0.1, 'Sample_0.2': 0.2, 'Sample_0.5': 0.5, 'Sample_1.0': 1.0, 'Sample_1.5': 1.5, 'Sample_2.0': 2.0, 'Sample_2.5': 2.5, 'Sample_3.0': 3.0, 'Sample_4.0': 4.0, 'Sample_5.0': 5.0}\n"
     ]
    }
   ],
   "source": [
    "import os\n",
    "import tensorflow as tf\n",
    "from tensorflow.keras import layers, models\n",
    "from tensorflow.keras.preprocessing.image import ImageDataGenerator\n",
    "\n",
    "# Define the folder path containing your folders of images\n",
    "folder_path = \"R:\\SIEMENS_Intern\\chlorine\"\n",
    "\n",
    "# List all folders in the specified directory\n",
    "folders = [f for f in os.listdir(folder_path) if os.path.isdir(os.path.join(folder_path, f))]\n",
    "\n",
    "# Define the labels\n",
    "labels = [0.1, 0.2, 0.5, 1.0, 1.5, 2.0, 2.5, 3.0, 4.0, 5.0]\n",
    "\n",
    "# Create a dictionary to store the mapping of folder names to labels\n",
    "label_mapping = {folder: label for folder, label in zip(folders, labels)}\n",
    "\n",
    "# Print the mapping to verify\n",
    "print(\"Folder Label Mapping:\")\n",
    "print(label_mapping)\n",
    "\n"
   ]
  },
  {
   "cell_type": "code",
   "execution_count": 2,
   "id": "e486c8db",
   "metadata": {},
   "outputs": [
    {
     "name": "stdout",
     "output_type": "stream",
     "text": [
      "Found 1591 images belonging to 10 classes.\n",
      "Found 392 images belonging to 10 classes.\n"
     ]
    }
   ],
   "source": [
    "# Define image dimensions and batch size\n",
    "img_height, img_width = 224, 224\n",
    "batch_size = 32\n",
    "\n",
    "# Define train and validation data generators\n",
    "train_datagen = ImageDataGenerator(rescale=1./255, validation_split=0.2)  # Splitting data into train and validation\n",
    "train_generator = train_datagen.flow_from_directory(\n",
    "    folder_path,\n",
    "    target_size=(img_height, img_width),\n",
    "    batch_size=batch_size,\n",
    "    class_mode='categorical',\n",
    "    subset='training')  # Set as training data\n",
    "\n",
    "validation_generator = train_datagen.flow_from_directory(\n",
    "    folder_path,\n",
    "    target_size=(img_height, img_width),\n",
    "    batch_size=batch_size,\n",
    "    class_mode='categorical',\n",
    "    subset='validation')  # Set as validation data"
   ]
  },
  {
   "cell_type": "code",
   "execution_count": 3,
   "id": "97a18db5",
   "metadata": {},
   "outputs": [
    {
     "name": "stdout",
     "output_type": "stream",
     "text": [
      "Epoch 1/10\n",
      "49/49 [==============================] - 242s 5s/step - loss: 2.3639 - accuracy: 0.0885 - val_loss: 2.3590 - val_accuracy: 0.1016\n",
      "Epoch 2/10\n",
      "49/49 [==============================] - 219s 4s/step - loss: 2.3284 - accuracy: 0.1026 - val_loss: 2.3346 - val_accuracy: 0.1276\n",
      "Epoch 3/10\n",
      "49/49 [==============================] - 218s 4s/step - loss: 2.3335 - accuracy: 0.1090 - val_loss: 2.3308 - val_accuracy: 0.0990\n",
      "Epoch 4/10\n",
      "49/49 [==============================] - 213s 4s/step - loss: 2.3143 - accuracy: 0.1193 - val_loss: 2.3044 - val_accuracy: 0.1094\n",
      "Epoch 5/10\n",
      "49/49 [==============================] - 202s 4s/step - loss: 2.3083 - accuracy: 0.1065 - val_loss: 2.3563 - val_accuracy: 0.0964\n",
      "Epoch 6/10\n",
      "49/49 [==============================] - 200s 4s/step - loss: 2.3080 - accuracy: 0.1232 - val_loss: 2.2986 - val_accuracy: 0.1146\n",
      "Epoch 7/10\n",
      "49/49 [==============================] - 201s 4s/step - loss: 2.3097 - accuracy: 0.1199 - val_loss: 2.2962 - val_accuracy: 0.1458\n",
      "Epoch 8/10\n",
      "49/49 [==============================] - 199s 4s/step - loss: 2.3025 - accuracy: 0.1046 - val_loss: 2.2910 - val_accuracy: 0.1224\n",
      "Epoch 9/10\n",
      "49/49 [==============================] - 240s 5s/step - loss: 2.2981 - accuracy: 0.1225 - val_loss: 2.2933 - val_accuracy: 0.1198\n",
      "Epoch 10/10\n",
      "49/49 [==============================] - 343s 7s/step - loss: 2.2962 - accuracy: 0.1116 - val_loss: 2.2850 - val_accuracy: 0.1250\n"
     ]
    }
   ],
   "source": [
    "\n",
    "from tensorflow.keras.applications import ResNet50\n",
    "\n",
    "# Load pre-trained ResNet50 model without top layers\n",
    "base_model = ResNet50(weights='imagenet', include_top=False, input_shape=(img_height, img_width, 3))\n",
    "\n",
    "# Freeze the pre-trained layers\n",
    "for layer in base_model.layers:\n",
    "    layer.trainable = False\n",
    "\n",
    "# Add custom classification layers on top of ResNet50\n",
    "x = base_model.output\n",
    "x = layers.GlobalAveragePooling2D()(x)\n",
    "x = layers.Dense(128, activation='relu')(x)\n",
    "predictions = layers.Dense(len(labels), activation='softmax')(x)\n",
    "\n",
    "# Create the model\n",
    "model = models.Model(inputs=base_model.input, outputs=predictions)\n",
    "\n",
    "# Compile the model\n",
    "model.compile(optimizer='adam',\n",
    "              loss='categorical_crossentropy',\n",
    "              metrics=['accuracy'])\n",
    "\n",
    "# Train the model\n",
    "model.fit(\n",
    "    train_generator,\n",
    "    steps_per_epoch=train_generator.samples // batch_size,\n",
    "    epochs=10,\n",
    "    validation_data=validation_generator,\n",
    "    validation_steps=validation_generator.samples // batch_size\n",
    ")\n",
    "\n",
    "# Save the trained model\n",
    "model.save(\"resnet50_chlorine_concentration_model.h5\")"
   ]
  },
  {
   "cell_type": "code",
   "execution_count": 10,
   "id": "bdaf001d",
   "metadata": {},
   "outputs": [
    {
     "name": "stdout",
     "output_type": "stream",
     "text": [
      "1/1 [==============================] - 0s 276ms/step\n",
      "Predicted concentration: 0.1\n"
     ]
    }
   ],
   "source": [
    "# Classify new images\n",
    "new_image_path = r'R:\\SIEMENS_Intern\\chlorine\\Sample_2.5\\aug_0_200.jpeg'\n",
    "img = tf.keras.preprocessing.image.load_img(new_image_path, target_size=(img_height, img_width))\n",
    "img_array = tf.keras.preprocessing.image.img_to_array(img)\n",
    "img_array = tf.expand_dims(img_array, 0)  # Create a batch\n",
    "\n",
    "predictions = model.predict(img_array)\n",
    "predicted_class_index = tf.argmax(predictions, axis=1)\n",
    "predicted_class = labels[predicted_class_index[0]]\n",
    "print(\"Predicted concentration:\", predicted_class)"
   ]
  },
  {
   "cell_type": "code",
   "execution_count": null,
   "id": "bc7d05d0",
   "metadata": {},
   "outputs": [],
   "source": []
  }
 ],
 "metadata": {
  "kernelspec": {
   "display_name": "Python 3 (ipykernel)",
   "language": "python",
   "name": "python3"
  },
  "language_info": {
   "codemirror_mode": {
    "name": "ipython",
    "version": 3
   },
   "file_extension": ".py",
   "mimetype": "text/x-python",
   "name": "python",
   "nbconvert_exporter": "python",
   "pygments_lexer": "ipython3",
   "version": "3.10.9"
  }
 },
 "nbformat": 4,
 "nbformat_minor": 5
}
